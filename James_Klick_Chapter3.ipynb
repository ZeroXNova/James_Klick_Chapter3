{
 "cells": [
  {
   "cell_type": "code",
   "execution_count": 1,
   "id": "d85a616b-1451-4a8d-9030-e1e343d31ebf",
   "metadata": {},
   "outputs": [
    {
     "name": "stdout",
     "output_type": "stream",
     "text": [
      "3600\n"
     ]
    }
   ],
   "source": [
    "secMin = 60\n",
    "minHour = 60\n",
    "\n",
    "print(secMin*minHour)"
   ]
  },
  {
   "cell_type": "code",
   "execution_count": 2,
   "id": "06f2e5cf-8c69-4176-be3f-df1239056779",
   "metadata": {},
   "outputs": [
    {
     "name": "stdout",
     "output_type": "stream",
     "text": [
      "3600\n"
     ]
    }
   ],
   "source": [
    "seconds_per_hour = secMin*minHour\n",
    "print(seconds_per_hour)"
   ]
  },
  {
   "cell_type": "code",
   "execution_count": 3,
   "id": "92c51333-7964-4d30-a87e-aeeda374b595",
   "metadata": {},
   "outputs": [
    {
     "name": "stdout",
     "output_type": "stream",
     "text": [
      "86400\n"
     ]
    }
   ],
   "source": [
    "hours_per_day = 24\n",
    "print(seconds_per_hour*hours_per_day)"
   ]
  },
  {
   "cell_type": "code",
   "execution_count": 4,
   "id": "2b173698-ea91-4f63-9a5d-0f3d8af7883c",
   "metadata": {},
   "outputs": [
    {
     "name": "stdout",
     "output_type": "stream",
     "text": [
      "86400\n"
     ]
    }
   ],
   "source": [
    "seconds_per_day = seconds_per_hour*hours_per_day\n",
    "print(seconds_per_day)"
   ]
  },
  {
   "cell_type": "code",
   "execution_count": 5,
   "id": "204b7eaf-4481-4098-86fe-16b3492b190a",
   "metadata": {},
   "outputs": [
    {
     "name": "stdout",
     "output_type": "stream",
     "text": [
      "24.0\n"
     ]
    }
   ],
   "source": [
    "print(seconds_per_day/seconds_per_hour)"
   ]
  },
  {
   "cell_type": "code",
   "execution_count": 6,
   "id": "8e9f89d6-749b-4619-a803-7d99abcb3f7a",
   "metadata": {},
   "outputs": [
    {
     "name": "stdout",
     "output_type": "stream",
     "text": [
      "24\n"
     ]
    }
   ],
   "source": [
    "print(seconds_per_day//seconds_per_hour)"
   ]
  },
  {
   "cell_type": "markdown",
   "id": "f9b25d0b-5a89-43fb-bc30-e18eadac5691",
   "metadata": {},
   "source": [
    "Yes, the number agree."
   ]
  }
 ],
 "metadata": {
  "kernelspec": {
   "display_name": "Python 3 (ipykernel)",
   "language": "python",
   "name": "python3"
  },
  "language_info": {
   "codemirror_mode": {
    "name": "ipython",
    "version": 3
   },
   "file_extension": ".py",
   "mimetype": "text/x-python",
   "name": "python",
   "nbconvert_exporter": "python",
   "pygments_lexer": "ipython3",
   "version": "3.12.4"
  }
 },
 "nbformat": 4,
 "nbformat_minor": 5
}
